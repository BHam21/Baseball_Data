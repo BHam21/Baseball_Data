{
 "cells": [
  {
   "cell_type": "code",
   "execution_count": 1,
   "metadata": {},
   "outputs": [
    {
     "name": "stdout",
     "output_type": "stream",
     "text": [
      "Pitcher wins: 5092\n",
      "Hitter wins: 4908\n",
      "---------------------------------------\n",
      "Fastball count pitcher: 4901\n",
      "Offspeed count pitcher: 5099\n",
      "---------------------------------------\n",
      "Fastball count hitter: 4973\n",
      "Offspeed count hitter: 5027\n"
     ]
    }
   ],
   "source": [
    "#Program that simulates the game of baseball in 10,000 at bats between a hitter and a pitcher in certain advantage counts and then saves the outcomes and prints them\n",
    "import random\n",
    "\n",
    "hitter=['fastball', 'offspeed']\n",
    "pitcher=['fastball', 'offspeed']\n",
    "\n",
    "def get_pitcher():\n",
    "    return random.choice(pitcher)\n",
    "\n",
    "def get_hitter():\n",
    "    return random.choice(hitter)\n",
    "\n",
    "pitcher_wins = 0\n",
    "hitter_wins = 0\n",
    "#track the number of fastballs thrown and offspeed thrown\n",
    "fastball_count_pitcher = 0\n",
    "offspeed_count_pitcher = 0\n",
    "fastball_count_hitter = 0\n",
    "offspeed_count_hitter = 0\n",
    "\n",
    "\n",
    "def play_game():\n",
    "    global pitcher_wins\n",
    "    global hitter_wins\n",
    "    global fastball_count_pitcher\n",
    "    global offspeed_count_pitcher\n",
    "    global fastball_count_hitter\n",
    "    global offspeed_count_hitter\n",
    "    for i in range(10000):\n",
    "        pitcher = get_pitcher()\n",
    "        hitter = get_hitter()\n",
    "        if pitcher == 'offspeed' and hitter == 'offspeed':\n",
    "            hitter_wins += 1\n",
    "            offspeed_count_pitcher += 1\n",
    "            offspeed_count_hitter += 1\n",
    "        elif pitcher == 'offspeed' and hitter == 'fastball':\n",
    "            pitcher_wins += 1\n",
    "            offspeed_count_pitcher += 1\n",
    "            fastball_count_hitter += 1\n",
    "        elif pitcher == 'fastball' and hitter == 'offspeed':\n",
    "            pitcher_wins += 1\n",
    "            fastball_count_pitcher += 1\n",
    "            offspeed_count_hitter += 1\n",
    "        elif pitcher == 'fastball' and hitter == 'fastball':\n",
    "            hitter_wins += 1\n",
    "            fastball_count_pitcher += 1\n",
    "            fastball_count_hitter += 1\n",
    "\n",
    "\n",
    "    print('Pitcher wins: {}'.format(pitcher_wins))\n",
    "    print('Hitter wins: {}'.format(hitter_wins))\n",
    "    print('---------------------------------------')\n",
    "    print('Fastball count pitcher: {}'.format(fastball_count_pitcher))\n",
    "    print('Offspeed count pitcher: {}'.format(offspeed_count_pitcher))\n",
    "    print('---------------------------------------')\n",
    "    print('Fastball count hitter: {}'.format(fastball_count_hitter))\n",
    "    print('Offspeed count hitter: {}'.format(offspeed_count_hitter))\n",
    "\n",
    "play_game()"
   ]
  }
 ],
 "metadata": {
  "interpreter": {
   "hash": "62cc788f889573a3ef617d7722405359774e8ad1c5171fcb57f4f96397c3033b"
  },
  "kernelspec": {
   "display_name": "Python 3.8.5 ('base')",
   "language": "python",
   "name": "python3"
  },
  "language_info": {
   "codemirror_mode": {
    "name": "ipython",
    "version": 3
   },
   "file_extension": ".py",
   "mimetype": "text/x-python",
   "name": "python",
   "nbconvert_exporter": "python",
   "pygments_lexer": "ipython3",
   "version": "3.8.5"
  },
  "orig_nbformat": 4
 },
 "nbformat": 4,
 "nbformat_minor": 2
}
